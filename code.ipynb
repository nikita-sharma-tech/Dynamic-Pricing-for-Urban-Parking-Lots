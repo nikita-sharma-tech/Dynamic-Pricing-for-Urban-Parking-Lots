{
  "nbformat": 4,
  "nbformat_minor": 0,
  "metadata": {
    "colab": {
      "provenance": []
    },
    "kernelspec": {
      "name": "python3",
      "display_name": "Python 3"
    },
    "language_info": {
      "name": "python"
    }
  },
  "cells": [
    {
      "cell_type": "code",
      "execution_count": 16,
      "metadata": {
        "colab": {
          "base_uri": "https://localhost:8080/"
        },
        "id": "cTpDVGfdUb1P",
        "outputId": "bb566a45-5773-42aa-e3bf-e0bf01d29693"
      },
      "outputs": [
        {
          "output_type": "stream",
          "name": "stdout",
          "text": [
            "Requirement already satisfied: bokeh in /usr/local/lib/python3.11/dist-packages (3.7.3)\n",
            "Requirement already satisfied: Jinja2>=2.9 in /usr/local/lib/python3.11/dist-packages (from bokeh) (3.1.6)\n",
            "Requirement already satisfied: contourpy>=1.2 in /usr/local/lib/python3.11/dist-packages (from bokeh) (1.3.2)\n",
            "Requirement already satisfied: narwhals>=1.13 in /usr/local/lib/python3.11/dist-packages (from bokeh) (1.45.0)\n",
            "Requirement already satisfied: numpy>=1.16 in /usr/local/lib/python3.11/dist-packages (from bokeh) (2.0.2)\n",
            "Requirement already satisfied: packaging>=16.8 in /usr/local/lib/python3.11/dist-packages (from bokeh) (24.2)\n",
            "Requirement already satisfied: pandas>=1.2 in /usr/local/lib/python3.11/dist-packages (from bokeh) (2.2.2)\n",
            "Requirement already satisfied: pillow>=7.1.0 in /usr/local/lib/python3.11/dist-packages (from bokeh) (11.2.1)\n",
            "Requirement already satisfied: PyYAML>=3.10 in /usr/local/lib/python3.11/dist-packages (from bokeh) (6.0.2)\n",
            "Requirement already satisfied: tornado>=6.2 in /usr/local/lib/python3.11/dist-packages (from bokeh) (6.4.2)\n",
            "Requirement already satisfied: xyzservices>=2021.09.1 in /usr/local/lib/python3.11/dist-packages (from bokeh) (2025.4.0)\n",
            "Requirement already satisfied: MarkupSafe>=2.0 in /usr/local/lib/python3.11/dist-packages (from Jinja2>=2.9->bokeh) (3.0.2)\n",
            "Requirement already satisfied: python-dateutil>=2.8.2 in /usr/local/lib/python3.11/dist-packages (from pandas>=1.2->bokeh) (2.9.0.post0)\n",
            "Requirement already satisfied: pytz>=2020.1 in /usr/local/lib/python3.11/dist-packages (from pandas>=1.2->bokeh) (2025.2)\n",
            "Requirement already satisfied: tzdata>=2022.7 in /usr/local/lib/python3.11/dist-packages (from pandas>=1.2->bokeh) (2025.2)\n",
            "Requirement already satisfied: six>=1.5 in /usr/local/lib/python3.11/dist-packages (from python-dateutil>=2.8.2->pandas>=1.2->bokeh) (1.17.0)\n"
          ]
        }
      ],
      "source": [
        "!pip install bokeh\n"
      ]
    },
    {
      "cell_type": "code",
      "source": [
        "import pandas as pd\n",
        "import numpy as np\n",
        "import time\n",
        "from bokeh.plotting import figure, show, output_notebook\n",
        "output_notebook()"
      ],
      "metadata": {
        "id": "Qxwj_5C1UfRn"
      },
      "execution_count": 17,
      "outputs": []
    },
    {
      "cell_type": "code",
      "source": [
        "# Model settings\n",
        "BASE_PRICE = 10\n",
        "\n",
        "def linear_price_model(prev_price, occupancy, capacity, alpha=5):\n",
        "    utilization = occupancy / capacity\n",
        "    return prev_price + alpha * utilization\n",
        "\n",
        "def demand_function(occupancy, capacity, queue, traffic, special_day, vehicle_type):\n",
        "    vt_weight = {'car': 1, 'bike': 0.5, 'truck': 1.5}\n",
        "    return (\n",
        "        1.0 * (occupancy / capacity) +\n",
        "        0.8 * queue -\n",
        "        0.6 * traffic +\n",
        "        0.5 * special_day +\n",
        "        0.7 * vt_weight.get(vehicle_type.lower(), 1.0)\n",
        "    )\n"
      ],
      "metadata": {
        "id": "UbYcdYdRUsva"
      },
      "execution_count": 18,
      "outputs": []
    },
    {
      "cell_type": "code",
      "source": [
        "def bounded_price(base, demand, lam=0.1):\n",
        "    norm_demand = (demand - 2) / 5\n",
        "    price = base * (1 + lam * norm_demand)\n",
        "    return np.clip(price, base * 0.5, base * 2)\n",
        "\n",
        "def competitive_price_model(own_price, utilization, competitors):\n",
        "    cheaper = [c for c in competitors if c < own_price]\n",
        "    if utilization > 0.9 and cheaper:\n",
        "        return own_price * 0.9\n",
        "    elif all(c > own_price for c in competitors):\n",
        "        return own_price * 1.1\n",
        "    return own_price"
      ],
      "metadata": {
        "id": "8jMcIs8QU4Yw"
      },
      "execution_count": 19,
      "outputs": []
    },
    {
      "cell_type": "code",
      "source": [
        "# Load dataset\n",
        "df = pd.read_csv(\"/content/dataset.csv\")\n",
        "\n",
        "# Store output\n",
        "price_log = []\n",
        "\n",
        "# Process row by row (simulate streaming)\n",
        "prev_price = BASE_PRICE"
      ],
      "metadata": {
        "id": "5jvpudBZU-m8"
      },
      "execution_count": 22,
      "outputs": []
    },
    {
      "cell_type": "code",
      "source": [
        "df.columns"
      ],
      "metadata": {
        "colab": {
          "base_uri": "https://localhost:8080/"
        },
        "id": "dpQ0VXC3XYxl",
        "outputId": "670cbcd9-edba-4fc7-8a12-843fe53a0c0c"
      },
      "execution_count": 24,
      "outputs": [
        {
          "output_type": "execute_result",
          "data": {
            "text/plain": [
              "Index(['ID', 'SystemCodeNumber', 'Capacity', 'Latitude', 'Longitude',\n",
              "       'Occupancy', 'VehicleType', 'TrafficConditionNearby', 'QueueLength',\n",
              "       'IsSpecialDay', 'LastUpdatedDate', 'LastUpdatedTime'],\n",
              "      dtype='object')"
            ]
          },
          "metadata": {},
          "execution_count": 24
        }
      ]
    },
    {
      "cell_type": "code",
      "source": [
        "df[\"Occupancy\"] = pd.to_numeric(df[\"Occupancy\"], errors=\"coerce\")\n",
        "df[\"Capacity\"] = pd.to_numeric(df[\"Capacity\"], errors=\"coerce\")\n",
        "df[\"QueueLength\"] = pd.to_numeric(df[\"QueueLength\"], errors=\"coerce\")\n",
        "df[\"TrafficConditionNearby\"] = pd.to_numeric(df[\"TrafficConditionNearby\"], errors=\"coerce\")\n",
        "df[\"IsSpecialDay\"] = pd.to_numeric(df[\"IsSpecialDay\"], errors=\"coerce\")\n",
        "df[\"timestamp\"] = pd.to_datetime(df[\"LastUpdatedDate\"] + \" \" + df[\"LastUpdatedTime\"], dayfirst=True)\n",
        "\n",
        "\n",
        "\n",
        "for i, row in df.iterrows():\n",
        "    # Model 1: linear baseline\n",
        "    price1 = linear_price_model(prev_price, row[\"Occupancy\"], row[\"Capacity\"])\n",
        "\n",
        "    # Model 2: demand-based\n",
        "    demand = demand_function(row[\"Occupancy\"], row[\"Capacity\"], row[\"QueueLength\"],\n",
        "                             row[\"TrafficConditionNearby\"], row[\"IsSpecialDay\"], row[\"VehicleType\"])\n",
        "    price2 = bounded_price(BASE_PRICE, demand)\n",
        "\n",
        "    # Model 3: competitive (simulate 3 random competitor prices)\n",
        "    competitors = [BASE_PRICE + np.random.uniform(-2, 2) for _ in range(3)]\n",
        "    final_price = competitive_price_model(price2, row[\"Occupancy\"] / row[\"Capacity\"], competitors)\n",
        "\n",
        "    # Save the price\n",
        "    price_log.append({\n",
        "        \"timestamp\": row[\"timestamp\"],\n",
        "        \"lot_id\": row[\"ID\"],\n",
        "        \"final_price\": round(final_price, 2)\n",
        "    })\n",
        "\n",
        "    # Update previous price\n",
        "    prev_price = final_price\n",
        "\n",
        "    # Optional delay for realism\n",
        "    time.sleep(0.01)  # simulate 10 ms delay"
      ],
      "metadata": {
        "id": "fjtI2uwzVBTy"
      },
      "execution_count": 33,
      "outputs": []
    }
  ]
}